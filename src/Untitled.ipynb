{
 "cells": [
  {
   "cell_type": "code",
   "execution_count": 1,
   "metadata": {},
   "outputs": [],
   "source": [
    "import sys, os \n",
    "from sklearn.feature_extraction.text import TfidfVectorizer, CountVectorizer\n",
    "from sklearn.metrics import f1_score, make_scorer\n",
    "from sklearn.svm import LinearSVC\n",
    "from sklearn.model_selection import cross_val_score\n",
    "from sklearn.model_selection import cross_validate\n",
    "from sklearn.naive_bayes import MultinomialNB\n",
    "from sklearn.linear_model import LogisticRegression\n",
    "from sklearn.ensemble import RandomForestClassifier\n",
    "import matplotlib.pyplot as plt\n",
    "from nltk.tokenize import word_tokenize\n",
    "from sklearn.linear_model import LinearRegression\n",
    "from sklearn.feature_extraction.text import TfidfVectorizer\n",
    "from sklearn.utils import shuffle\n",
    "import spacy\n",
    "from collections import Counter\n",
    "from sklearn.neural_network import MLPClassifier"
   ]
  },
  {
   "cell_type": "code",
   "execution_count": 2,
   "metadata": {},
   "outputs": [],
   "source": [
    "import re\n",
    "import numpy as np \n",
    "import pandas as pd\n",
    "from sklearn import preprocessing\n",
    "import os\n",
    "def load_data(train_directory, test_file):\n",
    "    train = pd.DataFrame(columns=[\"text\", \"label\"])\n",
    "    train_texts, train_labels = [], []\n",
    "    print(\"Loading : train data\")\n",
    "    for file in os.listdir(train_directory+\"/neg\"):\n",
    "        with open(train_directory+\"/neg/\"+file, \"r\") as f:\n",
    "            train_texts.append(f.read())\n",
    "            train_labels.append(-1)\n",
    "    for file in os.listdir(train_directory +\"/pos\"):\n",
    "        with open(train_directory +\"/pos/\" + file, \"r\") as f:\n",
    "            train_texts.append(f.read())\n",
    "            train_labels.append(1)\n",
    "    test = pd.DataFrame(columns=[\"text\"])\n",
    "    test_texts = []\n",
    "    print(\"Loading : test data\")\n",
    "    with open(test_file, \"r\") as f:\n",
    "        for line in f : \n",
    "            line = line.rstrip()\n",
    "            test_texts.append(line)\n",
    "    train[\"text\"] = train_texts\n",
    "    train[\"label\"] = train_labels\n",
    "    test[\"text\"] = test_texts\n",
    "    encoder = preprocessing.LabelEncoder()\n",
    "    train[\"label\"] = encoder.fit_transform(train[\"label\"])\n",
    "    return train, test"
   ]
  },
  {
   "cell_type": "code",
   "execution_count": 3,
   "metadata": {},
   "outputs": [
    {
     "name": "stdout",
     "output_type": "stream",
     "text": [
      "Loading : train data\n",
      "Loading : test data\n"
     ]
    }
   ],
   "source": [
    "train, test= load_data(\"../data/movies1000\", \"../data/moviesTest/testSentiment.txt\")"
   ]
  },
  {
   "cell_type": "markdown",
   "metadata": {},
   "source": [
    "# Count vectorizer"
   ]
  },
  {
   "cell_type": "markdown",
   "metadata": {},
   "source": [
    "## text brut"
   ]
  },
  {
   "cell_type": "code",
   "execution_count": 243,
   "metadata": {},
   "outputs": [],
   "source": [
    "train = shuffle(train)"
   ]
  },
  {
   "cell_type": "code",
   "execution_count": 82,
   "metadata": {},
   "outputs": [],
   "source": [
    "clf = LinearSVC()\n",
    "count_vect = CountVectorizer(analyzer='word',lowercase = False ,ngram_range= (1,3), min_df=5,max_df=0.5)\n",
    "count_vect.fit(train[\"text\"])\n",
    "train_count =  count_vect.transform(train[\"text\"])\n",
    "Scores = cross_val_score( clf, train_count, train[\"label\"], cv=5)"
   ]
  },
  {
   "cell_type": "code",
   "execution_count": 83,
   "metadata": {},
   "outputs": [
    {
     "data": {
      "text/plain": [
       "array([0.86  , 0.8325, 0.855 , 0.8325, 0.8775])"
      ]
     },
     "execution_count": 83,
     "metadata": {},
     "output_type": "execute_result"
    }
   ],
   "source": [
    "Scores"
   ]
  },
  {
   "cell_type": "code",
   "execution_count": 84,
   "metadata": {},
   "outputs": [
    {
     "data": {
      "text/plain": [
       "0.8515"
      ]
     },
     "execution_count": 84,
     "metadata": {},
     "output_type": "execute_result"
    }
   ],
   "source": [
    "Scores.mean()"
   ]
  },
  {
   "cell_type": "markdown",
   "metadata": {},
   "source": [
    "## stemmisation"
   ]
  },
  {
   "cell_type": "code",
   "execution_count": 85,
   "metadata": {},
   "outputs": [],
   "source": [
    "from nltk.stem.porter import *\n",
    "from nltk.tokenize import word_tokenize"
   ]
  },
  {
   "cell_type": "code",
   "execution_count": 86,
   "metadata": {},
   "outputs": [],
   "source": [
    "stemmer = PorterStemmer()\n",
    "stemmed = pd.DataFrame()\n",
    "stemmed[\"label\"] = train[\"label\"]\n",
    "stemmed[\"text\"] = train[\"text\"].apply(lambda x : \" \".join([stemmer.stem(i) for i in word_tokenize(x)]))\n",
    "\n"
   ]
  },
  {
   "cell_type": "code",
   "execution_count": 89,
   "metadata": {},
   "outputs": [],
   "source": [
    "stemmed.to_csv (\"../cache/stemmed.csv\", index = False, header=True) # saving it"
   ]
  },
  {
   "cell_type": "markdown",
   "metadata": {},
   "source": [
    "### training"
   ]
  },
  {
   "cell_type": "code",
   "execution_count": 91,
   "metadata": {},
   "outputs": [],
   "source": [
    "df = stemmed"
   ]
  },
  {
   "cell_type": "code",
   "execution_count": 120,
   "metadata": {},
   "outputs": [],
   "source": [
    "clf = LinearSVC()\n",
    "count_vect = CountVectorizer(analyzer='word',lowercase = False ,ngram_range= (1,1), min_df=5,max_df=0.5)\n",
    "count_vect.fit(df[\"text\"])\n",
    "train_count =  count_vect.transform(df[\"text\"])\n",
    "Scores = cross_val_score( clf, train_count, df[\"label\"], cv=5)"
   ]
  },
  {
   "cell_type": "code",
   "execution_count": 121,
   "metadata": {},
   "outputs": [
    {
     "data": {
      "text/plain": [
       "0.8320000000000001"
      ]
     },
     "execution_count": 121,
     "metadata": {},
     "output_type": "execute_result"
    }
   ],
   "source": [
    "Scores.mean()"
   ]
  },
  {
   "cell_type": "markdown",
   "metadata": {},
   "source": [
    "## Lemmatisation :"
   ]
  },
  {
   "cell_type": "code",
   "execution_count": 135,
   "metadata": {},
   "outputs": [
    {
     "name": "stdout",
     "output_type": "stream",
     "text": [
      "at row : 0\n",
      "at row : 1000\n"
     ]
    }
   ],
   "source": [
    "nlp = spacy.load(\"en_core_web_sm\")\n",
    "free_stopwords, lemmatized, free_stopwords_lemmatized = pd.DataFrame(), pd.DataFrame(), pd.DataFrame()\n",
    "lemmatized[\"label\"] = train[\"label\"].copy()\n",
    "free_stopwords[\"label\"] = train[\"label\"].copy()\n",
    "free_stopwords_lemmatized[\"label\"] = train[\"label\"].copy()\n",
    "lemmatized[\"text\"] = \" \"\n",
    "free_stopwords[\"text\"] = \"\"\n",
    "free_stopwords_lemmatized[\"text\"] = \"\"\n",
    "\n",
    "\n",
    "for i, row in train.iterrows(): # do it all at once\n",
    "    doc = nlp(row[\"text\"])\n",
    "    lemmatized.at[i, \"text\"] = \" \".join([i.lemma_ for i in doc])\n",
    "    free_stopwords.at[i, \"text\"] =\" \".join([ i.text for i in doc if not i.is_stop])\n",
    "    free_stopwords_lemmatized.at[i, \"text\"] =\" \".join([ i.lemma_ for i in doc if not i.is_stop])\n",
    "    \n",
    "    if i % 1000 ==0:\n",
    "        print(\"at row : \" + str(i))"
   ]
  },
  {
   "cell_type": "code",
   "execution_count": 136,
   "metadata": {},
   "outputs": [],
   "source": [
    "free_stopwords_lemmatized.to_csv (r'../cache/lemmatized_free_stopwords.csv', index = False, header=True)\n",
    "free_stopwords.to_csv (r'../cache/free_stopwords.csv', index = False, header=True)\n",
    "lemmatized.to_csv (r'../cache/lemmatized.csv', index = False, header=True)"
   ]
  },
  {
   "cell_type": "markdown",
   "metadata": {},
   "source": [
    "## train"
   ]
  },
  {
   "cell_type": "code",
   "execution_count": 138,
   "metadata": {},
   "outputs": [],
   "source": [
    "df = shuffle(lemmatized)"
   ]
  },
  {
   "cell_type": "code",
   "execution_count": 157,
   "metadata": {},
   "outputs": [],
   "source": [
    "clf = LinearSVC()\n",
    "count_vect = CountVectorizer(analyzer='word',lowercase = False ,ngram_range= (1,2), min_df=5,max_df=0.5)\n",
    "count_vect.fit(df[\"text\"])\n",
    "train_count =  count_vect.transform(df[\"text\"])\n",
    "Scores = cross_val_score( clf, train_count, df[\"label\"], cv=5)"
   ]
  },
  {
   "cell_type": "code",
   "execution_count": 158,
   "metadata": {},
   "outputs": [
    {
     "data": {
      "text/plain": [
       "0.8535"
      ]
     },
     "execution_count": 158,
     "metadata": {},
     "output_type": "execute_result"
    }
   ],
   "source": [
    "Scores.mean()"
   ]
  },
  {
   "cell_type": "markdown",
   "metadata": {},
   "source": [
    "## stop words"
   ]
  },
  {
   "cell_type": "code",
   "execution_count": 174,
   "metadata": {},
   "outputs": [],
   "source": [
    "df = shuffle(free_stopwords_lemmatized)"
   ]
  },
  {
   "cell_type": "code",
   "execution_count": 193,
   "metadata": {},
   "outputs": [],
   "source": [
    "clf = LinearSVC()\n",
    "count_vect = CountVectorizer(analyzer='word',lowercase = False ,ngram_range= (1,3), min_df=5,max_df=0.5)\n",
    "count_vect.fit(df[\"text\"])\n",
    "train_count =  count_vect.transform(df[\"text\"])\n",
    "Scores = cross_val_score( clf, train_count, df[\"label\"], cv=5)"
   ]
  },
  {
   "cell_type": "code",
   "execution_count": 194,
   "metadata": {},
   "outputs": [
    {
     "data": {
      "text/plain": [
       "0.8160000000000001"
      ]
     },
     "execution_count": 194,
     "metadata": {},
     "output_type": "execute_result"
    }
   ],
   "source": [
    "Scores.mean()"
   ]
  },
  {
   "cell_type": "markdown",
   "metadata": {},
   "source": [
    "## stemmed"
   ]
  },
  {
   "cell_type": "code",
   "execution_count": 198,
   "metadata": {},
   "outputs": [],
   "source": [
    "stemmer = PorterStemmer()\n",
    "stemmed_free_stopWords = pd.DataFrame()\n",
    "stemmed_free_stopWords[\"label\"] = free_stopwords[\"label\"]\n",
    "stemmed_free_stopWords[\"text\"] = free_stopwords[\"text\"].apply(lambda x : \" \".join([stemmer.stem(i) for i in word_tokenize(x)]))\n",
    "\n",
    "stemmed_free_stopWords.to_csv (\"../cache/stemmed_free_stopWords.csv\", index = False, header=True)"
   ]
  },
  {
   "cell_type": "code",
   "execution_count": 200,
   "metadata": {},
   "outputs": [],
   "source": [
    "df = shuffle(stemmed_free_stopWords)"
   ]
  },
  {
   "cell_type": "code",
   "execution_count": 215,
   "metadata": {},
   "outputs": [
    {
     "name": "stderr",
     "output_type": "stream",
     "text": [
      "/home/chekirou/anaconda3/lib/python3.7/site-packages/sklearn/svm/base.py:929: ConvergenceWarning: Liblinear failed to converge, increase the number of iterations.\n",
      "  \"the number of iterations.\", ConvergenceWarning)\n"
     ]
    }
   ],
   "source": [
    "clf = LinearSVC()\n",
    "count_vect = CountVectorizer(analyzer='word',lowercase = False ,ngram_range= (1,3), min_df=5,max_df=0.5)\n",
    "count_vect.fit(df[\"text\"])\n",
    "train_count =  count_vect.transform(df[\"text\"])\n",
    "Scores = cross_val_score( clf, train_count, df[\"label\"], cv=5)"
   ]
  },
  {
   "cell_type": "code",
   "execution_count": 216,
   "metadata": {},
   "outputs": [
    {
     "data": {
      "text/plain": [
       "0.8285"
      ]
     },
     "execution_count": 216,
     "metadata": {},
     "output_type": "execute_result"
    }
   ],
   "source": [
    "Scores.mean()"
   ]
  },
  {
   "cell_type": "markdown",
   "metadata": {},
   "source": [
    "# TF-IDF"
   ]
  },
  {
   "cell_type": "code",
   "execution_count": 4,
   "metadata": {},
   "outputs": [],
   "source": [
    "lemmatized = pd.read_csv(r'../cache/lemmatized.csv')"
   ]
  },
  {
   "cell_type": "code",
   "execution_count": 5,
   "metadata": {},
   "outputs": [],
   "source": [
    "df = shuffle(lemmatized)\n",
    "#df.reset_index(drop=True, inplace=True)\n"
   ]
  },
  {
   "cell_type": "code",
   "execution_count": 363,
   "metadata": {},
   "outputs": [],
   "source": [
    "clf = LinearSVC()\n",
    "count_vect = TfidfVectorizer(analyzer='word',lowercase = False ,ngram_range= (1,3), min_df=5, max_df= 0.5)\n",
    "count_vect.fit(df[\"text\"])\n",
    "train_count =  count_vect.transform(df[\"text\"])\n",
    "Scores = cross_val_score( clf, train_count, df[\"label\"], cv=5)\n"
   ]
  },
  {
   "cell_type": "code",
   "execution_count": 409,
   "metadata": {},
   "outputs": [],
   "source": [
    "train,TrainL, test,TestL = texts[:int(0.8*labels.shape[0])], labels[:int(0.8*labels.shape[0])],texts[int(0.8*texts.shape[0]):],labels[int(0.8*labels.shape[0]):]"
   ]
  },
  {
   "cell_type": "code",
   "execution_count": 6,
   "metadata": {},
   "outputs": [
    {
     "data": {
      "text/plain": [
       "LinearSVC(C=1.0, class_weight=None, dual=True, fit_intercept=True,\n",
       "          intercept_scaling=1, loss='squared_hinge', max_iter=1000,\n",
       "          multi_class='ovr', penalty='l2', random_state=None, tol=0.0001,\n",
       "          verbose=0)"
      ]
     },
     "execution_count": 6,
     "metadata": {},
     "output_type": "execute_result"
    }
   ],
   "source": [
    "#df, df1 = df.loc[:int(0.8*df.shape[0])], df.loc[int(0.8*df.shape[0]):]\n",
    "clf = LinearSVC()\n",
    "count_vect = TfidfVectorizer(analyzer='word',lowercase = False ,ngram_range= (1,3), min_df=5, max_df= 0.5)\n",
    "count_vect.fit(df[\"text\"])\n",
    "train_count =  count_vect.transform(df[\"text\"])\n",
    "clf.fit(train_count, df[\"label\"])\n"
   ]
  },
  {
   "cell_type": "code",
   "execution_count": 7,
   "metadata": {},
   "outputs": [],
   "source": [
    "test = count_vect.transform(test[\"text\"])\n",
    "pred = clf.predict(test)"
   ]
  },
  {
   "cell_type": "code",
   "execution_count": 11,
   "metadata": {},
   "outputs": [
    {
     "data": {
      "text/plain": [
       "(25000,)"
      ]
     },
     "execution_count": 11,
     "metadata": {},
     "output_type": "execute_result"
    }
   ],
   "source": [
    "pred.shape"
   ]
  },
  {
   "cell_type": "code",
   "execution_count": 51,
   "metadata": {},
   "outputs": [],
   "source": [
    "vocab = count_vect.vocabulary_\n",
    "vocab_inverse = {v: k for k,v in vocab.items()}"
   ]
  },
  {
   "cell_type": "code",
   "execution_count": 52,
   "metadata": {},
   "outputs": [],
   "source": [
    "coef = clf.coef_"
   ]
  },
  {
   "cell_type": "code",
   "execution_count": 53,
   "metadata": {},
   "outputs": [],
   "source": [
    "mostnegative =  np.argsort(coef[0])[:15]\n",
    "mostnegative = [vocab_inverse[k] for k in mostnegative]"
   ]
  },
  {
   "cell_type": "code",
   "execution_count": 54,
   "metadata": {},
   "outputs": [],
   "source": [
    "mostpositif = reversed(np.argsort(coef[0])[-15:])\n",
    "mostpositif = [vocab_inverse[k] for k in mostpositif]"
   ]
  },
  {
   "cell_type": "code",
   "execution_count": 55,
   "metadata": {},
   "outputs": [],
   "source": [
    "best_words = np.vstack((np.array(mostnegative), np.array(mostpositif))).transpose()"
   ]
  },
  {
   "cell_type": "code",
   "execution_count": 56,
   "metadata": {},
   "outputs": [
    {
     "data": {
      "image/png": "[encoded data removed]",
      "text/plain": [
       "<Figure size 432x288 with 1 Axes>"
      ]
     },
     "metadata": {
      "needs_background": "light"
     },
     "output_type": "display_data"
    }
   ],
   "source": [
    "fig, ax = plt.subplots()\n",
    "# hide axes\n",
    "fig.patch.set_visible(False)\n",
    "ax.axis('off')\n",
    "ax.axis('tight')\n",
    "\n",
    "the_table = plt.table(cellText=best_words,\n",
    "                      colLabels=[\"Negatif\", \"positif\"],\n",
    "                      loc='bottom')\n",
    "\n",
    "plt.show()"
   ]
  },
  {
   "cell_type": "code",
   "execution_count": 59,
   "metadata": {},
   "outputs": [
    {
     "data": {
      "text/plain": [
       "array([1, 1, 0, 0, 0, 1, 0, 1, 1, 0, 0, 1, 1, 0, 0, 0, 0, 0, 1, 0, 1, 1,\n",
       "       1, 1, 1, 0, 0, 1, 0, 0, 0, 1, 1, 1, 0, 0, 0, 0, 1, 0, 0, 0, 0, 0,\n",
       "       0, 0, 1, 0, 0, 0])"
      ]
     },
     "execution_count": 59,
     "metadata": {},
     "output_type": "execute_result"
    }
   ],
   "source": [
    "pred[:50]"
   ]
  },
  {
   "cell_type": "code",
   "execution_count": 60,
   "metadata": {},
   "outputs": [],
   "source": [
    "\n",
    "file = open(\"prediction_movies.txt\", \"w\")\n",
    "for i in pred:\n",
    "    if i ==1:\n",
    "        file.write(\"1\\n\")\n",
    "    else:\n",
    "        file.write(\"0\\n\")\n",
    "file.close()"
   ]
  },
  {
   "cell_type": "markdown",
   "metadata": {},
   "source": [
    "# pos tags"
   ]
  },
  {
   "cell_type": "code",
   "execution_count": 221,
   "metadata": {
    "scrolled": true
   },
   "outputs": [
    {
     "name": "stdout",
     "output_type": "stream",
     "text": [
      "0\n",
      "200\n",
      "400\n",
      "600\n",
      "800\n",
      "1000\n",
      "1200\n",
      "1400\n",
      "1600\n",
      "1800\n"
     ]
    }
   ],
   "source": [
    "POS_LIST = [\"ADJ\", \"ADP\", \"ADV\", \"AUX\", \"CONJ\", \"CCONJ\", \"DET\", \"INTJ\", \"NOUN\", \"NUM\", \"PART\", \"PRON\", \"PROPN\", \"PUNCT\", \"SCONJ\", \"SYM\", \"VERB\", \"X\", \"SPACE\"]\n",
    "pos_tag = pd.DataFrame()\n",
    "pos_tag[\"label\"] = train[\"label\"]\n",
    "for k in POS_LIST:\n",
    "  pos_tag[k] = 0\n",
    "pos_tag[\"length\"] = train[\"text\"].apply(lambda x : len(x.split())) # adding a column for the length of the sentences\n",
    "for i, row in train.iterrows():\n",
    "    d = dict(Counter([i.pos_ for i in nlp(row[\"text\"])])) # counting the number of each type\n",
    "    for k, v in d.items():\n",
    "        pos_tag.at[i, k] = v\n",
    "    if i % 200 == 0:\n",
    "        print(i)\n",
    "pos_tag.to_csv (\"../cache/pos_tags.csv\", index = False, header=True) # save it in cache\n",
    "\n"
   ]
  },
  {
   "cell_type": "code",
   "execution_count": 224,
   "metadata": {},
   "outputs": [],
   "source": [
    "df = shuffle(pos_tag)"
   ]
  },
  {
   "cell_type": "code",
   "execution_count": 226,
   "metadata": {},
   "outputs": [],
   "source": [
    "data, label = df.loc[:, \"ADJ\":], df[\"label\"]"
   ]
  },
  {
   "cell_type": "markdown",
   "metadata": {},
   "source": [
    "## tests"
   ]
  },
  {
   "cell_type": "code",
   "execution_count": 233,
   "metadata": {},
   "outputs": [
    {
     "name": "stdout",
     "output_type": "stream",
     "text": [
      "NB\n",
      "LR\n",
      "RF\n"
     ]
    },
    {
     "name": "stderr",
     "output_type": "stream",
     "text": [
      "/home/chekirou/anaconda3/lib/python3.7/site-packages/sklearn/linear_model/logistic.py:432: FutureWarning: Default solver will be changed to 'lbfgs' in 0.22. Specify a solver to silence this warning.\n",
      "  FutureWarning)\n",
      "/home/chekirou/anaconda3/lib/python3.7/site-packages/sklearn/linear_model/logistic.py:432: FutureWarning: Default solver will be changed to 'lbfgs' in 0.22. Specify a solver to silence this warning.\n",
      "  FutureWarning)\n",
      "/home/chekirou/anaconda3/lib/python3.7/site-packages/sklearn/linear_model/logistic.py:432: FutureWarning: Default solver will be changed to 'lbfgs' in 0.22. Specify a solver to silence this warning.\n",
      "  FutureWarning)\n",
      "/home/chekirou/anaconda3/lib/python3.7/site-packages/sklearn/linear_model/logistic.py:432: FutureWarning: Default solver will be changed to 'lbfgs' in 0.22. Specify a solver to silence this warning.\n",
      "  FutureWarning)\n",
      "/home/chekirou/anaconda3/lib/python3.7/site-packages/sklearn/linear_model/logistic.py:432: FutureWarning: Default solver will be changed to 'lbfgs' in 0.22. Specify a solver to silence this warning.\n",
      "  FutureWarning)\n",
      "/home/chekirou/anaconda3/lib/python3.7/site-packages/sklearn/ensemble/forest.py:245: FutureWarning: The default value of n_estimators will change from 10 in version 0.20 to 100 in 0.22.\n",
      "  \"10 in version 0.20 to 100 in 0.22.\", FutureWarning)\n",
      "/home/chekirou/anaconda3/lib/python3.7/site-packages/sklearn/ensemble/forest.py:245: FutureWarning: The default value of n_estimators will change from 10 in version 0.20 to 100 in 0.22.\n",
      "  \"10 in version 0.20 to 100 in 0.22.\", FutureWarning)\n",
      "/home/chekirou/anaconda3/lib/python3.7/site-packages/sklearn/ensemble/forest.py:245: FutureWarning: The default value of n_estimators will change from 10 in version 0.20 to 100 in 0.22.\n",
      "  \"10 in version 0.20 to 100 in 0.22.\", FutureWarning)\n",
      "/home/chekirou/anaconda3/lib/python3.7/site-packages/sklearn/ensemble/forest.py:245: FutureWarning: The default value of n_estimators will change from 10 in version 0.20 to 100 in 0.22.\n",
      "  \"10 in version 0.20 to 100 in 0.22.\", FutureWarning)\n",
      "/home/chekirou/anaconda3/lib/python3.7/site-packages/sklearn/ensemble/forest.py:245: FutureWarning: The default value of n_estimators will change from 10 in version 0.20 to 100 in 0.22.\n",
      "  \"10 in version 0.20 to 100 in 0.22.\", FutureWarning)\n"
     ]
    },
    {
     "name": "stdout",
     "output_type": "stream",
     "text": [
      "MLP\n"
     ]
    }
   ],
   "source": [
    "print(\"NB\")\n",
    "NB = MultinomialNB()\n",
    "ScoresNB = cross_val_score(NB , data, label, cv=5).mean()\n",
    "print(\"LR\")\n",
    "LR = LogisticRegression()\n",
    "ScoresLR = cross_val_score(LR , data, label, cv=5).mean()\n",
    "print(\"RF\")\n",
    "RF = RandomForestClassifier()\n",
    "ScoresRF = cross_val_score(RF , data, label, cv=5).mean()\n",
    "print(\"MLP\")\n",
    "MLP = MLPClassifier(hidden_layer_sizes= (30))\n",
    "ScoresMLP = cross_val_score(MLP , data, label, cv=5).mean()"
   ]
  },
  {
   "cell_type": "code",
   "execution_count": 239,
   "metadata": {},
   "outputs": [
    {
     "data": {
      "image/png": "[encoded data removed]",
      "text/plain": [
       "<Figure size 640x480 with 1 Axes>"
      ]
     },
     "metadata": {},
     "output_type": "display_data"
    }
   ],
   "source": [
    "plt.rcdefaults()\n",
    "plt.xticks(rotation='vertical')\n",
    "plt.ylabel(\"Accuracy\")\n",
    "plt.bar([\"Naive Bayes\", \"Logistic Regression\", \"Random Forest\", \"MLP\"], [ScoresNB, ScoresLR, ScoresRF, ScoresMLP])\n",
    "plt.show()"
   ]
  }
 ],
 "metadata": {
  "kernelspec": {
   "display_name": "Python 3",
   "language": "python",
   "name": "python3"
  },
  "language_info": {
   "codemirror_mode": {
    "name": "ipython",
    "version": 3
   },
   "file_extension": ".py",
   "mimetype": "text/x-python",
   "name": "python",
   "nbconvert_exporter": "python",
   "pygments_lexer": "ipython3",
   "version": "3.7.4"
  }
 },
 "nbformat": 4,
 "nbformat_minor": 2
}
